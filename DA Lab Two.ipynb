{
 "cells": [
  {
   "cell_type": "code",
   "execution_count": 1,
   "id": "116dd3a3",
   "metadata": {},
   "outputs": [],
   "source": [
    "import numpy as np"
   ]
  },
  {
   "cell_type": "code",
   "execution_count": 11,
   "id": "c1d08c64",
   "metadata": {},
   "outputs": [],
   "source": [
    "grades = np.array([\n",
    "    [11, 9, 16, 13.5],\n",
    "    [12, 11, 8.5, 10],\n",
    "    [11, 18, 11.5, 9],\n",
    "    [7, 15.5, 11, 14],\n",
    "    [9.5, 12, 10.5, 14],\n",
    "    [15, 18.5, 7, 12],\n",
    "    [18, 15.5, 11, 7.5],\n",
    "])\n",
    "adam_mean = np.mean(grades[0])\n",
    "anna_mean = np.mean(grades[1])\n",
    "james_mean = np.mean(grades[2])\n",
    "corey_mean = np.mean(grades[3])\n",
    "alisha_mean = np.mean(grades[4])\n",
    "jodie_mean = np.mean(grades[5])\n",
    "john_mean = np.mean(grades[6])"
   ]
  },
  {
   "cell_type": "code",
   "execution_count": 17,
   "id": "3319a158",
   "metadata": {},
   "outputs": [
    {
     "name": "stdout",
     "output_type": "stream",
     "text": [
      "12.375\n",
      "10.375\n",
      "12.375\n",
      "11.875\n",
      "11.5\n",
      "13.125\n",
      "13.0\n"
     ]
    }
   ],
   "source": [
    "print(adam_mean)\n",
    "print(anna_mean)\n",
    "print(james_mean)\n",
    "print(corey_mean)\n",
    "print(alisha_mean)\n",
    "print(jodie_mean)\n",
    "print(john_mean)"
   ]
  },
  {
   "cell_type": "code",
   "execution_count": 15,
   "id": "d1a4ad76",
   "metadata": {},
   "outputs": [
    {
     "name": "stdout",
     "output_type": "stream",
     "text": [
      "11.25\n"
     ]
    }
   ],
   "source": [
    "grades_flat = grades.flatten()\n",
    "grades_sorted = np.sort(grades_flat)\n",
    "n = len(grades_sorted)\n",
    "median_index = (n-1)//2\n",
    "if n % 2 == 1:\n",
    "    median_grade = grades_sorted[median_index]\n",
    "else:\n",
    "    median_grade = (grades_sorted[median_index] + grades_sorted[median_index+1])/2\n",
    "\n",
    "print(median_grade)"
   ]
  },
  {
   "cell_type": "code",
   "execution_count": 18,
   "id": "de58b604",
   "metadata": {},
   "outputs": [
    {
     "name": "stdout",
     "output_type": "stream",
     "text": [
      "11.25\n"
     ]
    }
   ],
   "source": [
    "print(np.median(grades_sorted))"
   ]
  },
  {
   "cell_type": "code",
   "execution_count": null,
   "id": "407e99f0",
   "metadata": {},
   "outputs": [],
   "source": []
  },
  {
   "cell_type": "code",
   "execution_count": null,
   "id": "10a95495",
   "metadata": {},
   "outputs": [],
   "source": []
  }
 ],
 "metadata": {
  "kernelspec": {
   "display_name": "Python 3 (ipykernel)",
   "language": "python",
   "name": "python3"
  },
  "language_info": {
   "codemirror_mode": {
    "name": "ipython",
    "version": 3
   },
   "file_extension": ".py",
   "mimetype": "text/x-python",
   "name": "python",
   "nbconvert_exporter": "python",
   "pygments_lexer": "ipython3",
   "version": "3.9.13"
  }
 },
 "nbformat": 4,
 "nbformat_minor": 5
}
