{
 "cells": [
  {
   "cell_type": "code",
   "execution_count": 2,
   "id": "116dd3a3",
   "metadata": {},
   "outputs": [],
   "source": [
    "import numpy as np\n",
    "import statistics"
   ]
  },
  {
   "cell_type": "markdown",
   "id": "14ff8dbe",
   "metadata": {},
   "source": [
    "# Question 1.1\n",
    "### Calculate the mean for each individual subject."
   ]
  },
  {
   "cell_type": "code",
   "execution_count": 3,
   "id": "c1d08c64",
   "metadata": {},
   "outputs": [],
   "source": [
    "grades = np.array([\n",
    "    [11, 9, 16, 13.5],\n",
    "    [12, 11, 8.5, 10],\n",
    "    [11, 18, 11.5, 9],\n",
    "    [7, 15.5, 11, 14],\n",
    "    [9.5, 12, 10.5, 14],\n",
    "    [15, 18.5, 7, 12],\n",
    "    [18, 15.5, 11, 7.5],\n",
    "])\n",
    "adam_mean = np.mean(grades[0])\n",
    "anna_mean = np.mean(grades[1])\n",
    "james_mean = np.mean(grades[2])\n",
    "corey_mean = np.mean(grades[3])\n",
    "alisha_mean = np.mean(grades[4])\n",
    "jodie_mean = np.mean(grades[5])\n",
    "john_mean = np.mean(grades[6])"
   ]
  },
  {
   "cell_type": "code",
   "execution_count": 4,
   "id": "3319a158",
   "metadata": {},
   "outputs": [
    {
     "name": "stdout",
     "output_type": "stream",
     "text": [
      "12.375\n",
      "10.375\n",
      "12.375\n",
      "11.875\n",
      "11.5\n",
      "13.125\n",
      "13.0\n"
     ]
    }
   ],
   "source": [
    "print(adam_mean)\n",
    "print(anna_mean)\n",
    "print(james_mean)\n",
    "print(corey_mean)\n",
    "print(alisha_mean)\n",
    "print(jodie_mean)\n",
    "print(john_mean)"
   ]
  },
  {
   "cell_type": "markdown",
   "id": "a9fd0fc1",
   "metadata": {},
   "source": [
    "# Question 1.2\n",
    "### Find the median grade in Math for all students."
   ]
  },
  {
   "cell_type": "code",
   "execution_count": 5,
   "id": "d1a4ad76",
   "metadata": {},
   "outputs": [
    {
     "name": "stdout",
     "output_type": "stream",
     "text": [
      "11.25\n"
     ]
    }
   ],
   "source": [
    "grades_flat = grades.flatten()\n",
    "grades_sorted = np.sort(grades_flat)\n",
    "n = len(grades_sorted)\n",
    "median_index = (n-1)//2\n",
    "if n % 2 == 1:\n",
    "    median_grade = grades_sorted[median_index]\n",
    "else:\n",
    "    median_grade = (grades_sorted[median_index] + grades_sorted[median_index+1])/2\n",
    "\n",
    "print(median_grade)\n"
   ]
  },
  {
   "cell_type": "code",
   "execution_count": 6,
   "id": "de58b604",
   "metadata": {},
   "outputs": [
    {
     "name": "stdout",
     "output_type": "stream",
     "text": [
      "11.25\n"
     ]
    }
   ],
   "source": [
    "print(np.median(grades_sorted))"
   ]
  },
  {
   "cell_type": "markdown",
   "id": "9e849eec",
   "metadata": {},
   "source": [
    "# Question 1.3\n",
    "### Calculate the mode for History."
   ]
  },
  {
   "cell_type": "code",
   "execution_count": 7,
   "id": "6ba07bb1",
   "metadata": {},
   "outputs": [
    {
     "name": "stdout",
     "output_type": "stream",
     "text": [
      "11.0\n"
     ]
    }
   ],
   "source": [
    "grades_mode = statistics.mode(grades_flat)\n",
    "print(grades_mode)"
   ]
  },
  {
   "cell_type": "markdown",
   "id": "26cec643",
   "metadata": {},
   "source": [
    "# Question 2\n",
    "### The strongest correlation is between Math and History\n"
   ]
  },
  {
   "cell_type": "code",
   "execution_count": 8,
   "id": "dafca06e",
   "metadata": {},
   "outputs": [
    {
     "name": "stdout",
     "output_type": "stream",
     "text": [
      "[[ 1.          0.2694941  -0.26856189 -0.71835835]\n",
      " [ 0.2694941   1.         -0.52760583 -0.35868816]\n",
      " [-0.26856189 -0.52760583  1.          0.20679404]\n",
      " [-0.71835835 -0.35868816  0.20679404  1.        ]]\n"
     ]
    }
   ],
   "source": [
    "corr_matrix = np.corrcoef(grades[:, :4], rowvar=False)\n",
    "print(corr_matrix)"
   ]
  },
  {
   "cell_type": "markdown",
   "id": "46cdcb8d",
   "metadata": {},
   "source": [
    "# Question 3\n",
    "### Write a Python function named desc_stats() that takes a list of numbers and prints statistical calculations"
   ]
  },
  {
   "cell_type": "code",
   "execution_count": 14,
   "id": "485176c1",
   "metadata": {},
   "outputs": [
    {
     "name": "stdout",
     "output_type": "stream",
     "text": [
      "Mean: 59.47826086956522\n",
      "Median: 60.0\n",
      "Mode: 60\n",
      "Minimum: 5\n",
      "Maximum: 99\n",
      "Range: 94\n",
      "Variance: 664.1625708884687\n",
      "Standard deviation: 26.350555566365703\n"
     ]
    }
   ],
   "source": [
    "def desc_stats(array):\n",
    "    print(f'Mean: {np.mean(array)}')\n",
    "    print(f'Median: {np.median(array)}')\n",
    "    print(\"Mode:\", statistics.mode(array))\n",
    "    print(\"Minimum:\", np.min(array))\n",
    "    print(\"Maximum:\", np.max(array))\n",
    "    print(\"Range:\", np.max(array) - np.min(array))\n",
    "    print(\"Variance:\", np.var(array, ddof=1))\n",
    "    print(\"Standard deviation:\", np.std(array, ddof=1))\n",
    "\n",
    "math_exam_grades = [24, 5, 15, 60, 54, 82, 99, 80, 70, 98, 93, 60, 33, 22, 65, 61, 51, 58, 83, 86, 42, 67, 60]\n",
    "          \n",
    "desc_stats(math_exam_grades)\n"
   ]
  },
  {
   "cell_type": "markdown",
   "id": "a1aff25e",
   "metadata": {},
   "source": [
    "# Extended Challenge\n",
    "### Interpret the results. If you were the instructor of the class, would you curve the grade? \n",
    "\n",
    "#### I would curve the grade. The average score was basically 60 which is failing and a very high range in scores at 94. "
   ]
  },
  {
   "cell_type": "code",
   "execution_count": null,
   "id": "bd85aa23",
   "metadata": {},
   "outputs": [],
   "source": []
  }
 ],
 "metadata": {
  "kernelspec": {
   "display_name": "Python 3 (ipykernel)",
   "language": "python",
   "name": "python3"
  },
  "language_info": {
   "codemirror_mode": {
    "name": "ipython",
    "version": 3
   },
   "file_extension": ".py",
   "mimetype": "text/x-python",
   "name": "python",
   "nbconvert_exporter": "python",
   "pygments_lexer": "ipython3",
   "version": "3.9.13"
  }
 },
 "nbformat": 4,
 "nbformat_minor": 5
}
