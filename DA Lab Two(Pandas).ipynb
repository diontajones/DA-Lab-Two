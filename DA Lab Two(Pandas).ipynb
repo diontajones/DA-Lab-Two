{
 "cells": [
  {
   "cell_type": "code",
   "execution_count": 1,
   "id": "c82a7d1a",
   "metadata": {},
   "outputs": [],
   "source": [
    "import pandas as pd"
   ]
  },
  {
   "cell_type": "markdown",
   "id": "ed393b71",
   "metadata": {},
   "source": [
    "# Question 1.1\n",
    "### Calculate the mean for each individual subject."
   ]
  },
  {
   "cell_type": "code",
   "execution_count": 2,
   "id": "a33d6b9c",
   "metadata": {},
   "outputs": [
    {
     "name": "stdout",
     "output_type": "stream",
     "text": [
      "The mean grade for Math is: 11.928571428571429\n",
      "The mean grade for Science is: 14.214285714285714\n",
      "The mean grade for Reading is: 10.785714285714286\n",
      "The mean grade for History is: 11.428571428571429\n"
     ]
    }
   ],
   "source": [
    "grades = {'Name': ['Adam', 'Anne', 'James', 'Cory', 'Alisha', 'Jordan', 'Josh'],\n",
    "          'Math': [11, 12, 11, 7, 9.5, 15, 18],\n",
    "          'Science': [9, 11, 18, 15.5, 12, 18.5, 15.5],\n",
    "          'Reading': [16, 8.5, 11.5, 11, 10.5, 7, 11],\n",
    "          'History': [13.5, 10, 9, 14, 14, 12, 7.5]}\n",
    "\n",
    "df = pd.DataFrame(grades)\n",
    "\n",
    "mean_math = df['Math'].mean()\n",
    "mean_science = df['Science'].mean()\n",
    "mean_reading = df['Reading'].mean()\n",
    "mean_history = df['History'].mean()\n",
    "\n",
    "print(f'The mean grade for Math is: {mean_math}')\n",
    "print(f'The mean grade for Science is: {mean_science}')\n",
    "print(f'The mean grade for Reading is: {mean_reading}')\n",
    "print(f'The mean grade for History is: {mean_history}')\n",
    "\n",
    "\n"
   ]
  },
  {
   "cell_type": "markdown",
   "id": "7316b9be",
   "metadata": {},
   "source": [
    "# Question 1.2\n",
    "### Find the median grade in Math for all students."
   ]
  },
  {
   "cell_type": "code",
   "execution_count": 3,
   "id": "c1a55484",
   "metadata": {},
   "outputs": [
    {
     "name": "stdout",
     "output_type": "stream",
     "text": [
      "The mediam grade for Math: 11.0\n"
     ]
    }
   ],
   "source": [
    "median_math = df['Math'].median()\n",
    "print(f'The mediam grade for Math: {median_math}')"
   ]
  },
  {
   "cell_type": "markdown",
   "id": "9ab0389e",
   "metadata": {},
   "source": [
    "# Question 1.3\n",
    "### Calculate the mode for History"
   ]
  },
  {
   "cell_type": "code",
   "execution_count": 5,
   "id": "5ded70c5",
   "metadata": {},
   "outputs": [
    {
     "name": "stdout",
     "output_type": "stream",
     "text": [
      "The mode for History grades is: 14.0\n"
     ]
    }
   ],
   "source": [
    "mode_history = df['History'].mode()\n",
    "print(f'The mode for History grades is: {mode_history[0]}')"
   ]
  },
  {
   "cell_type": "markdown",
   "id": "88b72386",
   "metadata": {},
   "source": [
    "# Question 2\n",
    "### Calculate the correlation between the different subjects. What two subjects have the strongest correlation?"
   ]
  },
  {
   "cell_type": "code",
   "execution_count": 15,
   "id": "bbdce8f9",
   "metadata": {},
   "outputs": [
    {
     "name": "stdout",
     "output_type": "stream",
     "text": [
      "             Math   Science   Reading   History\n",
      "Math     1.000000  0.269494 -0.268562 -0.718358\n",
      "Science  0.269494  1.000000 -0.527606 -0.358688\n",
      "Reading -0.268562 -0.527606  1.000000  0.206794\n",
      "History -0.718358 -0.358688  0.206794  1.000000\n"
     ]
    }
   ],
   "source": [
    "df_numerical = df.drop('Name', axis=1)\n",
    "corr_matrix = df_numerical.corr()\n",
    "print(corr_matrix)"
   ]
  },
  {
   "cell_type": "markdown",
   "id": "677d9592",
   "metadata": {},
   "source": [
    "# Question 3\n",
    "### Write a Python function named desc_stats() that takes a list of numbers and prints statistical calculations"
   ]
  },
  {
   "cell_type": "code",
   "execution_count": 23,
   "id": "7dbb5af4",
   "metadata": {},
   "outputs": [
    {
     "name": "stdout",
     "output_type": "stream",
     "text": [
      "Mean: 59.47826086956522\n",
      "Median: 60.0\n",
      "Mode: 60\n",
      "Min: 5\n",
      "Max: 99\n",
      "Range: 94\n",
      "Variance: 694.3517786561266\n",
      "Standard Deviation: 26.350555566365703\n"
     ]
    }
   ],
   "source": [
    "def desc_stats(column_name):\n",
    "    mode_exam = df_2[column_name].mode()\n",
    "    print('Mean:', df_2[column_name].mean())\n",
    "    print('Median:', df_2[column_name].median())\n",
    "    print('Mode:', mode_exam[0])\n",
    "    print('Min:', df_2[column_name].min())\n",
    "    print('Max:', df_2[column_name].max())\n",
    "    print('Range:', df_2[column_name].max() - df_2[column_name].min())\n",
    "    print('Variance:', df_2[column_name].var(ddof=1))\n",
    "    print('Standard Deviation:', df_2[column_name].std())\n",
    "\n",
    "math_exam_grade = {'Exam Grade':[24, 5, 15, 60, 54, 82, 99, 80, \n",
    "                70, 98, 93, 60, 33, 22, 65, 61, 51, 58, 83, 86, \n",
    "                42, 67, 60]}\n",
    "\n",
    "df_2 = pd.DataFrame(math_exam_grade)\n",
    "\n",
    "desc_stats('Exam Grade')"
   ]
  },
  {
   "cell_type": "markdown",
   "id": "6a9ad26c",
   "metadata": {},
   "source": [
    "# Extended Challenge\n",
    "### Interpret the results. If you were the instructor of the class, would you curve the grade? \n",
    "\n",
    "#### I would curve the grade. The average score was basically 60 which is failing and a very high range in scores at 94. "
   ]
  },
  {
   "cell_type": "code",
   "execution_count": null,
   "id": "b2fce0f1",
   "metadata": {},
   "outputs": [],
   "source": []
  }
 ],
 "metadata": {
  "kernelspec": {
   "display_name": "Python 3 (ipykernel)",
   "language": "python",
   "name": "python3"
  },
  "language_info": {
   "codemirror_mode": {
    "name": "ipython",
    "version": 3
   },
   "file_extension": ".py",
   "mimetype": "text/x-python",
   "name": "python",
   "nbconvert_exporter": "python",
   "pygments_lexer": "ipython3",
   "version": "3.9.13"
  }
 },
 "nbformat": 4,
 "nbformat_minor": 5
}
